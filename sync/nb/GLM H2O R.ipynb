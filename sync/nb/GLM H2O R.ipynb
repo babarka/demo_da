{
 "cells": [
  {
   "cell_type": "markdown",
   "metadata": {},
   "source": [
    "<dl>\n",
    "<table width=\"314px\">\n",
    "  <tr>\n",
    "    <td width=\"52px\"><img src=\"./kernels/h2or/logo-64x64.png\" alt=\"H2O R\" style=\"width:48px;height:48px;\"></td>\n",
    "    <td bgcolor=\"#EFEEEC\"><h1><font color=\"#EFEEEC\">__</font>  R H<sub>2</sub>O Hadoop</h1></td>\n",
    "  </tr>\n",
    "</table>\n",
    "</dl>\n",
    "**************\n",
    "\n",
    "[H<sub>2</sub>O](http://h2o.ai/) is an open source predictive analytics application \n",
    "\n",
    "\n",
    "H<sub>2</sub>O is the open source in memory solution from [0xdata](http://h2o-release.s3.amazonaws.com/h2o/rel-slater/5/index.html) for predictive analytics. It enablables distributed processes for solving models. This is done abstractly in what is called an H2O cloud. This cloud can be run in CDH YARN MR2. When run within YARN, the configuration is called H<sub>2</sub>O Hadoop. Further, we can interact with the H<sub>2</sub>O Cloud using an R API. In this case the configuration is called R on H<sub>2</sub>O Hadoop. We will demonstrate how to run a simple analyses below:\n",
    "\n",
    "# Create an H<sub>2</sub>O on Hadoop Application\n",
    "We'll initiate the hadoop job via an initialization script provided with the demo. It'll start a single node application. It'll take upto 30 seconds to initialize in the quickstart environement."
   ]
  },
  {
   "cell_type": "code",
   "execution_count": 1,
   "metadata": {
    "collapsed": false
   },
   "outputs": [
    {
     "name": "stdout",
     "output_type": "stream",
     "text": [
      "Initiating H2O Cloud..................\n",
      "Successfully connected to http://localhost:54321/ \n",
      "\n",
      "R is connected to the H2O cluster: \n",
      "    H2O cluster uptime:         1 hours 8 minutes \n",
      "    H2O cluster version:        3.2.0.5 \n",
      "    H2O cluster name:           h2o_cloud \n",
      "    H2O cluster total nodes:    1 \n",
      "    H2O cluster total memory:   0.96 GB \n",
      "    H2O cluster total cores:    4 \n",
      "    H2O cluster allowed cores:  4 \n",
      "    H2O cluster healthy:        TRUE \n",
      "\n",
      "H2O Cluster connection is available as hc"
     ]
    }
   ],
   "source": [
    "source('../init/h2o_init.r')"
   ]
  },
  {
   "cell_type": "markdown",
   "metadata": {},
   "source": [
    "**************\n",
    "# Verify H<sub>2</sub>O-On-YARN Application is Running:\n",
    "Check the status of your application, named **h2o_cloud**, within the [YARN RUNNING Applications](http://localhost:8088/cluster/apps/RUNNING) List. You can also confirm via [H2O Flow](http://localhost:54321/).\n",
    "**************\n",
    "# Create Frame Using H<sub>2</sub>O Cluster Connection\n",
    "While you can import data into the H<sub>2</sub>O cluster using [H<sub>2</sub>O Flow](http://localhost:54321/), we will demonstrate how to train a model within this R session. As of this writing, there is no functionlity to interact with Hive as we had done the spark demonstrations. However, the underlying data in Hive is in HDFS, and H<sub>2</sub>O does allowing importing files directly from HDFS.\n",
    "\n",
    "We will use an existing source data folder of our Hive table, dat. We generated and loaded this data from script; we know it has the following properties:"
   ]
  },
  {
   "cell_type": "markdown",
   "metadata": {},
   "source": [
    "$$ y = \\beta_0 + \\sum_{i=1}^{3} \\beta_i x_i$$\n",
    "$$ \\beta_0: 10 $$\n",
    "$$ \\beta_1:  3 $$\n",
    "$$ \\beta_2: -2 $$\n",
    "$$ \\beta_3: -1 $$"
   ]
  },
  {
   "cell_type": "code",
   "execution_count": 2,
   "metadata": {
    "collapsed": false
   },
   "outputs": [
    {
     "name": "stdout",
     "output_type": "stream",
     "text": [
      "\r",
      "  |                                                                            \r",
      "  |                                                                      |   0%\r",
      "  |                                                                            \r",
      "  |======================================================================| 100%\n"
     ]
    }
   ],
   "source": [
    "dat <- h2o.importFolder(path=\"hdfs://quickstart.cloudera:8020/user/cloudera/dat\",\n",
    "                        destination_frame=\"dat_R\",\n",
    "                        conn = hc,\n",
    "                        parse = TRUE,\n",
    "                        header = F, \n",
    "                        sep = \",\",\n",
    "                        col.names = c(\"y\",\"x1\",\"x2\",\"x3\"))"
   ]
  },
  {
   "cell_type": "markdown",
   "metadata": {
    "collapsed": false
   },
   "source": [
    "# Train Model on Frame\n",
    "With our data imported into the H<sub>2</sub>O cluster, we can train our data using *h2o.glm*. There are quite a few parameters available, so be sure to check out the [H<sub>2</sub>O R user documenation](http://h2o-release.s3.amazonaws.com/h2o/rel-slater/9/docs-website/h2o-r/h2o_package.pdf) for further details."
   ]
  },
  {
   "cell_type": "code",
   "execution_count": 3,
   "metadata": {
    "collapsed": false
   },
   "outputs": [
    {
     "name": "stdout",
     "output_type": "stream",
     "text": [
      "\r",
      "  |                                                                            \r",
      "  |                                                                      |   0%\r",
      "  |                                                                            \r",
      "  |======================================================================| 100%\n"
     ]
    },
    {
     "data": {
      "text/html": [
       "<table>\n",
       "<thead><tr><th></th><th scope=col>Coefficient</th><th scope=col>Estimates</th></tr></thead>\n",
       "<tbody>\n",
       "\t<tr><th scope=row>1</th><td>Intercept</td><td>10.0002</td></tr>\n",
       "\t<tr><th scope=row>2</th><td>x1</td><td>3.001386</td></tr>\n",
       "\t<tr><th scope=row>3</th><td>x2</td><td>-2.000574</td></tr>\n",
       "\t<tr><th scope=row>4</th><td>x3</td><td>-1.002177</td></tr>\n",
       "</tbody>\n",
       "</table>\n"
      ],
      "text/latex": [
       "\\begin{tabular}{r|ll}\n",
       "  & Coefficient & Estimates\\\\\n",
       "\\hline\n",
       "\t1 & Intercept & 10.0002\\\\\n",
       "\t2 & x1 & 3.001386\\\\\n",
       "\t3 & x2 & -2.000574\\\\\n",
       "\t4 & x3 & -1.002177\\\\\n",
       "\\end{tabular}\n"
      ],
      "text/plain": [
       "  Coefficient Estimates\n",
       "1   Intercept 10.000198\n",
       "2          x1  3.001386\n",
       "3          x2 -2.000574\n",
       "4          x3 -1.002177"
      ]
     },
     "execution_count": 3,
     "metadata": {},
     "output_type": "execute_result"
    }
   ],
   "source": [
    "model <- h2o.glm(y=\"y\",\n",
    "                 x=c(\"x1\",\"x2\",\"x3\"),\n",
    "                 training_frame=dat,\n",
    "                 model_id=\"GLM_model_R\",\n",
    "                 alpha=0,\n",
    "                 lambda=0,\n",
    "                 standardize=FALSE,\n",
    "                 intercept=TRUE,\n",
    "                 family=\"gaussian\")\n",
    "data.frame(Coefficient=c(\"Intercept\",\"x1\",\"x2\",\"x3\"),Estimates=h2o.coef(model))   "
   ]
  },
  {
   "cell_type": "markdown",
   "metadata": {},
   "source": [
    "If everything ran as expected, we should see model weights that estimate the true weights used to generate our dataset:\n",
    "\n",
    "|         | Coefficient     | True |\n",
    "| ------- |:------------- |:--------------:|\n",
    "| 0       | Intercept | 10.0 |\n",
    "| 1       |        x1 |  3.0 |\n",
    "| 2       |        x2 | -2.0 |\n",
    "| 3       |        x3 | -1.0 |"
   ]
  },
  {
   "cell_type": "markdown",
   "metadata": {},
   "source": [
    "# Stop H<sub>2</sub>O-On-YARN Application:\n",
    "If you were to close out of this python session, the H<sub>2</sub>O cluster would continue to run. To terminate the H<sub>2</sub>O cluster you can shut it down within [H<sub>2</sub>O Flow](http://localhost:54321/) or terminate within the R session as below:"
   ]
  },
  {
   "cell_type": "code",
   "execution_count": 4,
   "metadata": {
    "collapsed": true
   },
   "outputs": [],
   "source": [
    "h2o.shutdown(hc,prompt=FALSE)"
   ]
  },
  {
   "cell_type": "markdown",
   "metadata": {},
   "source": [
    "# Verify H<sub>2</sub>O-On-YARN Application is Finished:\n",
    "Check the status of your application, named **h2o_cloud**, within the [YARN All Applications](http://localhost:8088/cluster) List."
   ]
  }
 ],
 "metadata": {
  "kernelspec": {
   "display_name": "H2O R",
   "language": "R",
   "name": "h2or"
  },
  "language_info": {
   "codemirror_mode": "r",
   "file_extension": ".r",
   "mimetype": "text/x-r-source",
   "name": "R",
   "pygments_lexer": "r",
   "version": "3.1.3"
  }
 },
 "nbformat": 4,
 "nbformat_minor": 0
}
