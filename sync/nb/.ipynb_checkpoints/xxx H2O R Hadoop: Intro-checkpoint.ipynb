{
 "cells": [
  {
   "cell_type": "markdown",
   "metadata": {},
   "source": [
    "<dl>\n",
    "<table width=\"350px\">\n",
    "  <tr>\n",
    "    <td width=\"52px\"><img src=\"./img/h2or.png\" alt=\"H2O R\" style=\"width:48px;height:48px;\"></td>\n",
    "    <td bgcolor=\"#EFEEEC\"><h1><font color=\"#EFEEEC\">__</font>  R on H<sub>2</sub>O Hadoop</h1></td>\n",
    "  </tr>\n",
    "</table>\n",
    "</dl>\n",
    "**************\n",
    "\n",
    "H<sub>2</sub>O is an open source predictive analytics application \n",
    "\n",
    "\n",
    "H<sub>2</sub>O is the open source in memory solution from [0xdata](http://h2o-release.s3.amazonaws.com/h2o/rel-slater/5/index.html) for predictive analytics. It enablables distributed processes for solving models. This is done abstractly in what is called an H2O cloud. This cloud can be run in CDH Yarn MR2. When run within Yarn, the configuration is called H<sub>2</sub>O Hadoop. Further, we can interact with the H<sub>2</sub>O Cloud using an R API. In this case the configuration is called R on H<sub>2</sub>O Hadoop. We will demonstrate how to run a simple analyses below:\n",
    "\n",
    "# Create an H<sub>2</sub>O on Hadoop Application\n",
    "We'll initiate the hadoop job via an initialization script provided with the demo. It'll start a single node application. It may take upto 20 seconds to initialize in the quickstart environement."
   ]
  },
  {
   "cell_type": "code",
   "execution_count": 1,
   "metadata": {
    "collapsed": true
   },
   "outputs": [],
   "source": [
    "system(\"../init/h2o_hadoop_init.sh > /dev/null 2>&1 &\")"
   ]
  },
  {
   "cell_type": "markdown",
   "metadata": {},
   "source": [
    "We can verify that there is a long running [YARN application](http://quickstart.cloudera:8088/cluster/apps/RUNNING).\n",
    "\n",
    "We can verify that there is also an [H2O Flow UI](http://localhost:54321/)\n",
    "\n",
    "\n",
    "# Connect to H2O Application\n",
    "Using the 0Xdata provided *h2o* R library, we can connect to our running H2O Application and create the abstracted reference, H2O_hadoop, as an R object.\n"
   ]
  },
  {
   "cell_type": "code",
   "execution_count": 2,
   "metadata": {
    "collapsed": false
   },
   "outputs": [
    {
     "name": "stderr",
     "output_type": "stream",
     "text": [
      "Loading required package: statmod\n",
      "\n",
      "----------------------------------------------------------------------\n",
      "\n",
      "Your next step is to start H2O and get a connection object (named\n",
      "'localH2O', for example):\n",
      "    > localH2O = h2o.init()\n",
      "\n",
      "For H2O package documentation, ask for help:\n",
      "    > ??h2o\n",
      "\n",
      "After starting H2O, you can use the Web UI at http://localhost:54321\n",
      "For more information visit http://docs.h2o.ai\n",
      "\n",
      "----------------------------------------------------------------------\n",
      "\n"
     ]
    },
    {
     "name": "stdout",
     "output_type": "stream",
     "text": [
      "Successfully connected to http://localhost:54321/ \n",
      "\n",
      "R is connected to the H2O cluster: \n",
      "    H2O cluster uptime:         1 minutes 285 milliseconds \n",
      "    H2O cluster version:        3.2.0.5 \n",
      "    H2O cluster name:           H2O_77466 \n",
      "    H2O cluster total nodes:    1 \n",
      "    H2O cluster total memory:   0.96 GB \n",
      "    H2O cluster total cores:    4 \n",
      "    H2O cluster allowed cores:  4 \n",
      "    H2O cluster healthy:        TRUE \n",
      "\n"
     ]
    }
   ],
   "source": [
    "library(h2o)\n",
    "H2O_hadoop = h2o.init(ip = \"localhost\", port = 54321, startH2O = FALSE)"
   ]
  },
  {
   "cell_type": "markdown",
   "metadata": {},
   "source": [
    "Let's check the cluster status using our new reference to make cure we are properly connected and have the right cloud:"
   ]
  },
  {
   "cell_type": "code",
   "execution_count": 3,
   "metadata": {
    "collapsed": false
   },
   "outputs": [
    {
     "name": "stdout",
     "output_type": "stream",
     "text": [
      "Version: 3.2.0.5 \n",
      "Cloud name: H2O_77466 \n",
      "Cloud size: 1 \n",
      "Cloud is locked\n",
      "\n"
     ]
    },
    {
     "data": {
      "text/html": [
       "<table>\n",
       "<thead><tr><th></th><th scope=col>h2o</th><th scope=col>healthy</th><th scope=col>last_ping</th><th scope=col>num_cpus</th><th scope=col>sys_load</th><th scope=col>mem_value_size</th><th scope=col>total_value_size</th><th scope=col>free_mem</th><th scope=col>tot_mem</th><th scope=col>max_mem</th><th scope=col>free_disk</th><th scope=col>max_disk</th><th scope=col>pid</th><th scope=col>num_keys</th><th scope=col>tcps_active</th><th scope=col>open_fds</th><th scope=col>rpcs_active</th></tr></thead>\n",
       "<tbody>\n",
       "\t<tr><th scope=row>1</th><td>/10.0.2.15:54321</td><td>TRUE</td><td>1.444685e+12</td><td>4</td><td>0.12</td><td>0</td><td>0</td><td>758046720</td><td>1029701632</td><td>1029701632</td><td>43214962688</td><td>58665730048</td><td>10889</td><td>0</td><td>0</td><td>321</td><td>0</td></tr>\n",
       "</tbody>\n",
       "</table>\n"
      ],
      "text/latex": [
       "\\begin{tabular}{r|lllllllllllllllll}\n",
       "  & h2o & healthy & last_ping & num_cpus & sys_load & mem_value_size & total_value_size & free_mem & tot_mem & max_mem & free_disk & max_disk & pid & num_keys & tcps_active & open_fds & rpcs_active\\\\\n",
       "\\hline\n",
       "\t1 & /10.0.2.15:54321 & TRUE & 1.444685e+12 & 4 & 0.12 & 0 & 0 & 758046720 & 1029701632 & 1029701632 & 43214962688 & 58665730048 & 10889 & 0 & 0 & 321 & 0\\\\\n",
       "\\end{tabular}\n"
      ],
      "text/plain": [
       "               h2o healthy    last_ping num_cpus sys_load mem_value_size\n",
       "1 /10.0.2.15:54321    TRUE 1.444685e+12        4     0.12              0\n",
       "  total_value_size  free_mem    tot_mem    max_mem   free_disk    max_disk\n",
       "1                0 758046720 1029701632 1029701632 43214962688 58665730048\n",
       "    pid num_keys tcps_active open_fds rpcs_active\n",
       "1 10889        0           0      321           0"
      ]
     },
     "execution_count": 3,
     "metadata": {},
     "output_type": "execute_result"
    }
   ],
   "source": [
    "h2o.clusterStatus(H2O_hadoop)"
   ]
  },
  {
   "cell_type": "markdown",
   "metadata": {},
   "source": [
    "# Generate Data\n",
    "Let's generate our own sample data for a multivariate linear regression so we know our true coefficients. Specifically;\n",
    "$$ y = \\beta_0 + \\sum_{i=1}^{3} \\beta_i x_i$$\n",
    "$$ \\beta_0: 4 $$\n",
    "$$ \\beta_1: 6 $$\n",
    "$$ \\beta_2: 2 $$\n",
    "$$ \\beta_3: -1 $$\n",
    " "
   ]
  },
  {
   "cell_type": "code",
   "execution_count": 4,
   "metadata": {
    "collapsed": false
   },
   "outputs": [],
   "source": [
    "dat    <- data.frame(x1=runif(10000,0,4))\n",
    "dat$x2 <- dat$x1^2\n",
    "dat$x3 <- dat$x1^3\n",
    "dat$y  <- 6*dat$x1 + 2*dat$x2 - 1*dat$x3 + 4 + rnorm(200,0,1)"
   ]
  },
  {
   "cell_type": "markdown",
   "metadata": {},
   "source": [
    "# Submit Data into H2O application\n",
    "You are able to read HDFS data directly into your H2O application. However, for this exercise, we will pass our generated data into our H2O application."
   ]
  },
  {
   "cell_type": "code",
   "execution_count": 5,
   "metadata": {
    "collapsed": false
   },
   "outputs": [
    {
     "name": "stdout",
     "output_type": "stream",
     "text": [
      "\r",
      "  |                                                                            \r",
      "  |                                                                      |   0%\r",
      "  |                                                                            \r",
      "  |======================================================================| 100%\n"
     ]
    }
   ],
   "source": [
    "h2o.dat <- as.h2o(H2O_hadoop, dat)"
   ]
  },
  {
   "cell_type": "markdown",
   "metadata": {},
   "source": [
    "While it is limited due to the distributed state, there are some familiar R column manuipulations and functions available:"
   ]
  },
  {
   "cell_type": "code",
   "execution_count": 6,
   "metadata": {
    "collapsed": false
   },
   "outputs": [
    {
     "data": {
      "text/html": [
       "10.6871518179615"
      ],
      "text/latex": [
       "10.6871518179615"
      ],
      "text/markdown": [
       "10.6871518179615"
      ],
      "text/plain": [
       "[1] 10.68715"
      ]
     },
     "execution_count": 6,
     "metadata": {},
     "output_type": "execute_result"
    }
   ],
   "source": [
    "mean(h2o.dat$y)"
   ]
  },
  {
   "cell_type": "code",
   "execution_count": 7,
   "metadata": {
    "collapsed": false
   },
   "outputs": [
    {
     "data": {
      "text/plain": [
       " x1                  x2                  x3                  y               \n",
       " Min.   :0.0004723   Min.   :2.230e-07   Min.   :1.053e-10   Min.   :-6.376  \n",
       " 1st Qu.:1.0083144   1st Qu.:1.008e+00   1st Qu.:1.024e+00   1st Qu.: 7.124  \n",
       " Median :1.9761627   Median :3.904e+00   Median :7.679e+00   Median :11.844  \n",
       " Mean   :1.9899917   Mean   :5.278e+00   Mean   :1.577e+01   Mean   :10.687  \n",
       " 3rd Qu.:2.9680074   3rd Qu.:8.799e+00   3rd Qu.:2.611e+01   3rd Qu.:14.839  \n",
       " Max.   :3.9998457   Max.   :1.600e+01   Max.   :6.399e+01   Max.   :19.001  "
      ]
     },
     "execution_count": 7,
     "metadata": {},
     "output_type": "execute_result"
    }
   ],
   "source": [
    "summary(h2o.dat)"
   ]
  },
  {
   "cell_type": "markdown",
   "metadata": {},
   "source": [
    "# Run GLM within H2O cloud\n",
    "Now using familiar R syntax, you can submit your model to be fitted. NOTE: there are enough differences from local R glm function that you should consult the manual to write your first couple models."
   ]
  },
  {
   "cell_type": "code",
   "execution_count": 8,
   "metadata": {
    "collapsed": false
   },
   "outputs": [
    {
     "name": "stdout",
     "output_type": "stream",
     "text": [
      "\r",
      "  |                                                                            \r",
      "  |                                                                      |   0%\r",
      "  |                                                                            \r",
      "  |======================================================================| 100%\n"
     ]
    }
   ],
   "source": [
    "model <- h2o.glm(y=\"y\", x=c(\"x1\",\"x2\",\"x3\"), h2o.dat, alpha = 0, lambda = 0,\n",
    "                 standardize = FALSE, intercept = TRUE, nfold=10, family=\"gaussian\")"
   ]
  },
  {
   "cell_type": "code",
   "execution_count": 9,
   "metadata": {
    "collapsed": false
   },
   "outputs": [
    {
     "data": {
      "text/plain": [
       "Model Details:\n",
       "==============\n",
       "\n",
       "H2ORegressionModel: glm\n",
       "Model ID:  GLM_model_R_1444685277576_5 \n",
       "GLM Model: summary\n",
       "    family     link regularization number_of_predictors_total\n",
       "1 gaussian identity           None                          3\n",
       "  number_of_active_predictors number_of_iterations               training_frame\n",
       "1                           4                    1 file28f670323892_csv_1.hex_2\n",
       "\n",
       "Coefficients: glm coefficients\n",
       "      names coefficients\n",
       "1 Intercept     3.906917\n",
       "2        x1     6.133371\n",
       "3        x2     1.923519\n",
       "4        x3    -0.987662\n",
       "\n",
       "H2ORegressionMetrics: glm\n",
       "** Reported on training data. **\n",
       "\n",
       "MSE:  0.9869348\n",
       "R2 :  0.9607078\n",
       "Mean Residual Deviance :  0.9869348\n",
       "Null Deviance :251178.5\n",
       "Null D.o.F. :9999\n",
       "Residual Deviance :9869.348\n",
       "Residual D.o.F. :9996\n",
       "AIC :28257.26\n",
       "\n",
       "\n",
       "\n",
       "H2ORegressionMetrics: glm\n",
       "** Reported on cross-validation data. **\n",
       "Description: 10-fold cross-validation on training data\n",
       "\n",
       "MSE:  0.9879479\n",
       "R2 :  0.9606675\n",
       "Mean Residual Deviance :  0.9879479\n",
       "Null Deviance :251264.2\n",
       "Null D.o.F. :9999\n",
       "Residual Deviance :9879.479\n",
       "Residual D.o.F. :9996\n",
       "AIC :28267.52\n"
      ]
     },
     "execution_count": 9,
     "metadata": {},
     "output_type": "execute_result"
    }
   ],
   "source": [
    "model"
   ]
  },
  {
   "cell_type": "markdown",
   "metadata": {},
   "source": [
    "While the model was generated in local R, it was loaded into an H2O cloud and run in H2O cloud. You can goto the [H2O Flow UI](http://localhost:54321/)."
   ]
  },
  {
   "cell_type": "markdown",
   "metadata": {
    "collapsed": true
   },
   "source": [
    "# Clean up"
   ]
  },
  {
   "cell_type": "code",
   "execution_count": 10,
   "metadata": {
    "collapsed": true
   },
   "outputs": [],
   "source": [
    "h2o.shutdown(H2O_hadoop , prompt = FALSE)"
   ]
  },
  {
   "cell_type": "code",
   "execution_count": null,
   "metadata": {
    "collapsed": true
   },
   "outputs": [],
   "source": []
  }
 ],
 "metadata": {
  "kernelspec": {
   "display_name": "H2O R",
   "language": "R",
   "name": "h2or"
  },
  "language_info": {
   "codemirror_mode": "r",
   "file_extension": ".r",
   "mimetype": "text/x-r-source",
   "name": "R",
   "pygments_lexer": "r",
   "version": "3.1.3"
  }
 },
 "nbformat": 4,
 "nbformat_minor": 0
}
