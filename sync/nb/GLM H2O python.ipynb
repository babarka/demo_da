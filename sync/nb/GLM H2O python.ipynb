{
 "cells": [
  {
   "cell_type": "markdown",
   "metadata": {},
   "source": [
    "<dl>\n",
    "<table width=\"420px\">\n",
    "  <tr>\n",
    "    <td width=\"52px\"><img src=\"./kernels/h2opy/logo-64x64.png\" alt=\"H2O R\" style=\"width:48px;height:48px;\"></td>\n",
    "    <td bgcolor=\"#EFEEEC\"><h1><font color=\"#EFEEEC\">__</font>  Python on H<sub>2</sub>O Hadoop</h1></td>\n",
    "  </tr>\n",
    "</table>\n",
    "</dl>\n",
    "**************\n",
    "\n",
    "[H<sub>2</sub>O](http://h2o.ai/) is an open source predictive analytics application \n",
    "\n",
    "\n",
    "H<sub>2</sub>O is the open source in memory solution from [0xdata](http://h2o-release.s3.amazonaws.com/h2o/rel-slater/5/index.html) for predictive analytics. It enablables distributed processes for solving models. This is done abstractly in what is called an H2O cloud. This cloud can be run in CDH YARN MR2. When run within YARN, the configuration is called H<sub>2</sub>O Hadoop. Further, we can interact with the H<sub>2</sub>O Cloud using a python H<sub>2</sub>O library. In this case the configuration is called Python H<sub>2</sub>O Hadoop. We will demonstrate how to run a simple analyses below:\n",
    "\n",
    "# Create an H<sub>2</sub>O on Hadoop Application\n",
    "We'll initiate the hadoop job via an initialization script provided with the demo. It'll start a single node application. It'll take upto 30 seconds to initialize in the quickstart environement."
   ]
  },
  {
   "cell_type": "code",
   "execution_count": 1,
   "metadata": {
    "collapsed": false
   },
   "outputs": [
    {
     "name": "stdout",
     "output_type": "stream",
     "text": [
      "Initiating H2O Cloud...\n"
     ]
    },
    {
     "data": {
      "text/html": [
       "<div style=\"overflow:auto\"><table style=\"width:50%\"><tr><td>H2O cluster uptime: </td>\n",
       "<td>10 seconds 166 milliseconds </td></tr>\n",
       "<tr><td>H2O cluster version: </td>\n",
       "<td>3.2.0.5</td></tr>\n",
       "<tr><td>H2O cluster name: </td>\n",
       "<td>h2o_cloud</td></tr>\n",
       "<tr><td>H2O cluster total nodes: </td>\n",
       "<td>1</td></tr>\n",
       "<tr><td>H2O cluster total memory: </td>\n",
       "<td>982.0 MB</td></tr>\n",
       "<tr><td>H2O cluster total cores: </td>\n",
       "<td>4</td></tr>\n",
       "<tr><td>H2O cluster allowed cores: </td>\n",
       "<td>4</td></tr>\n",
       "<tr><td>H2O cluster healthy: </td>\n",
       "<td>True</td></tr>\n",
       "<tr><td>H2O Connection ip: </td>\n",
       "<td>127.0.0.1</td></tr>\n",
       "<tr><td>H2O Connection port: </td>\n",
       "<td>54321</td></tr></table></div>"
      ],
      "text/plain": [
       "--------------------------  ---------------------------\n",
       "H2O cluster uptime:         10 seconds 166 milliseconds\n",
       "H2O cluster version:        3.2.0.5\n",
       "H2O cluster name:           h2o_cloud\n",
       "H2O cluster total nodes:    1\n",
       "H2O cluster total memory:   982.0 MB\n",
       "H2O cluster total cores:    4\n",
       "H2O cluster allowed cores:  4\n",
       "H2O cluster healthy:        True\n",
       "H2O Connection ip:          127.0.0.1\n",
       "H2O Connection port:        54321\n",
       "--------------------------  ---------------------------"
      ]
     },
     "metadata": {},
     "output_type": "display_data"
    }
   ],
   "source": [
    "execfile('../init/h2o_init.py')"
   ]
  },
  {
   "cell_type": "markdown",
   "metadata": {},
   "source": [
    "**************\n",
    "# Verify H<sub>2</sub>O-On-YARN Application is Running:\n",
    "Check the status of your application, named **h2o_cloud**, within the [YARN RUNNING Applications](http://localhost:8088/cluster/apps/RUNNING) List. You can also confirm via [H<sub>2</sub>O Flow](http://localhost:54321/)."
   ]
  },
  {
   "cell_type": "markdown",
   "metadata": {},
   "source": [
    "**************\n",
    "# Create Frame Using H<sub>2</sub>O  Cluster Connection\n",
    "\n",
    "While you can import data into the H<sub>2</sub>O cluster using [H<sub>2</sub>O Flow](http://localhost:54321/), we will demonstrate how to train a model within this python session. As of this writing, there is no functionlity to interact with Hive as we had done the spark demonstrations. However, the underlying data in Hive is in HDFS, and H<sub>2</sub>O does allowing importing files directly from HDFS.\n",
    "\n",
    "We will use an existing source data folder of our Hive table, dat. We generated and loaded this data from script; we know it has the following properties:"
   ]
  },
  {
   "cell_type": "markdown",
   "metadata": {},
   "source": [
    "$$ y = \\beta_0 + \\sum_{i=1}^{3} \\beta_i x_i$$\n",
    "$$ \\beta_0: 10 $$\n",
    "$$ \\beta_1:  3 $$\n",
    "$$ \\beta_2: -2 $$\n",
    "$$ \\beta_3: -1 $$"
   ]
  },
  {
   "cell_type": "code",
   "execution_count": 2,
   "metadata": {
    "collapsed": false
   },
   "outputs": [
    {
     "name": "stdout",
     "output_type": "stream",
     "text": [
      "\n",
      "Parse Progress: [##################################################] 100%\n",
      "Imported hdfs://quickstart.cloudera:8020/user/cloudera/dat. Parsed 10,000 rows and 4 cols\n"
     ]
    }
   ],
   "source": [
    "dat = h2o.import_file(path=\"hdfs://quickstart.cloudera:8020/user/cloudera/dat\",\n",
    "                      destination_frame=\"dat_py\",\n",
    "                      col_names = [\"y\",\"x1\",\"x2\",\"x3\"])"
   ]
  },
  {
   "cell_type": "markdown",
   "metadata": {},
   "source": [
    "# Train Model on Frame\n",
    "With our data imported into the H<sub>2</sub>O cluster, we can train our data using *h2o.glm*. There are quite a few parameters available, so be sure to check out the [H<sub>2</sub>O python module documenation](http://h2o-release.s3.amazonaws.com/h2o/rel-slater/5/docs-website/h2o-py/docs/h2o.html?highlight=h2o.h2o.glm#h2o.h2o.glm) for further details."
   ]
  },
  {
   "cell_type": "code",
   "execution_count": 3,
   "metadata": {
    "collapsed": false
   },
   "outputs": [
    {
     "name": "stdout",
     "output_type": "stream",
     "text": [
      "\n",
      "glm Model Build Progress: [##################################################] 100%\n",
      "       names  coefficients\n",
      "0  Intercept     10.000198\n",
      "1         x1      3.001386\n",
      "2         x2     -2.000574\n",
      "3         x3     -1.002177\n",
      "\n"
     ]
    }
   ],
   "source": [
    "model = h2o.glm(y=dat['y'],\n",
    "                x=dat.drop('y'),\n",
    "                model_id='GLM_model_py',\n",
    "                standardize=False,\n",
    "                intercept=True,\n",
    "                Lambda=0,\n",
    "                alpha=0,\n",
    "                family=\"gaussian\")\n",
    "print model.__dict__.get('_model_json').get('output').get('coefficients_table')"
   ]
  },
  {
   "cell_type": "markdown",
   "metadata": {},
   "source": [
    "If everything ran as expected, we should see model weights that estimate the true weights used to generate our dataset:\n",
    "\n",
    "|         | names     | coefficients |\n",
    "| ------- | -------------:|:--------------:|\n",
    "| 0       | Intercept | 10.0 |\n",
    "| 1       |        x1 |  3.0 |\n",
    "| 2       |        x2 | -2.0 |\n",
    "| 3       |        x3 | -1.0 |"
   ]
  },
  {
   "cell_type": "markdown",
   "metadata": {
    "collapsed": false
   },
   "source": [
    "# Stop H<sub>2</sub>O-On-YARN Application:\n",
    "If you were to close out of this python session, the H<sub>2</sub>O cluster would continue to run. To terminate the H<sub>2</sub>O cluster you can shut it down within [H<sub>2</sub>O Flow](http://localhost:54321/) or terminate within the python session as below:"
   ]
  },
  {
   "cell_type": "code",
   "execution_count": null,
   "metadata": {
    "collapsed": false
   },
   "outputs": [],
   "source": [
    "h2o.shutdown(prompt=False)"
   ]
  },
  {
   "cell_type": "markdown",
   "metadata": {
    "collapsed": true
   },
   "source": [
    "# Verify H<sub>2</sub>O-On-YARN Application is Finished:\n",
    "Check the status of your application, named **h2o_cloud**, within the [YARN All Applications](http://localhost:8088/cluster) List."
   ]
  }
 ],
 "metadata": {
  "kernelspec": {
   "display_name": "H2O python",
   "language": "python",
   "name": "h2opy"
  },
  "language_info": {
   "codemirror_mode": {
    "name": "ipython",
    "version": 2
   },
   "file_extension": ".py",
   "mimetype": "text/x-python",
   "name": "python",
   "nbconvert_exporter": "python",
   "pygments_lexer": "ipython2",
   "version": "2.7.10"
  }
 },
 "nbformat": 4,
 "nbformat_minor": 0
}
