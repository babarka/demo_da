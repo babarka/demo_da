{
 "cells": [
  {
   "cell_type": "markdown",
   "metadata": {},
   "source": [
    "Create a H2OContext:\n",
    "    You can create an H2O contect in a couple of ways. However, once instantiated, the commands for modeling re the same between them. To simplify the options, presented here are the three mediums that we should choose from:\n",
    "    local: create an H2O context running locally from R.\n",
    "    \n",
    "    yarn: branded as H2O on hadopo, creates a long running yarn application running on MR2\n",
    "    \n",
    "    spark: branded as sparkling-water, creates an H2O context on spark, which itself can be a run in standalone or in yarn.\n",
    "    \n",
    "    \n",
    "    The code to build any of the three are below, but we will investigate sparkling-water."
   ]
  },
  {
   "cell_type": "code",
   "execution_count": null,
   "metadata": {
    "collapsed": true
   },
   "outputs": [],
   "source": [
    "#TODO: build instantiation for all three methods:\n",
    "system(\"/home/cloudera/demo/init/sparkling_submit_local.sh\")"
   ]
  },
  {
   "cell_type": "code",
   "execution_count": 2,
   "metadata": {
    "collapsed": false
   },
   "outputs": [
    {
     "ename": "ERROR",
     "evalue": "Error in h2o.init(ip = \"localhost\", port = 54321, startH2O = FALSE): Cannot connect to H2O server. Please check that H2O is running at http://localhost:54321/\n",
     "output_type": "error",
     "traceback": [
      "Error in h2o.init(ip = \"localhost\", port = 54321, startH2O = FALSE): Cannot connect to H2O server. Please check that H2O is running at http://localhost:54321/\n"
     ]
    }
   ],
   "source": [
    "library(h2o)\n",
    "localH2O = h2o.init(ip = \"localhost\", port = 54321, startH2O = FALSE)"
   ]
  },
  {
   "cell_type": "code",
   "execution_count": 3,
   "metadata": {
    "collapsed": false
   },
   "outputs": [
    {
     "ename": "ERROR",
     "evalue": "Error in eval(expr, envir, enclos): object 'localH2O' not found\n",
     "output_type": "error",
     "traceback": [
      "Error in eval(expr, envir, enclos): object 'localH2O' not found\n"
     ]
    }
   ],
   "source": [
    "h2o.checkClient(localH2O)"
   ]
  },
  {
   "cell_type": "code",
   "execution_count": 4,
   "metadata": {
    "collapsed": false
   },
   "outputs": [
    {
     "data": {
      "text/html": [
       "<dl>\n",
       "\t<dt>$platform</dt>\n",
       "\t\t<dd>'x86_64-unknown-linux-gnu'</dd>\n",
       "\t<dt>$arch</dt>\n",
       "\t\t<dd>'x86_64'</dd>\n",
       "\t<dt>$os</dt>\n",
       "\t\t<dd>'linux-gnu'</dd>\n",
       "\t<dt>$system</dt>\n",
       "\t\t<dd>'x86_64, linux-gnu'</dd>\n",
       "\t<dt>$status</dt>\n",
       "\t\t<dd>''</dd>\n",
       "\t<dt>$major</dt>\n",
       "\t\t<dd>'3'</dd>\n",
       "\t<dt>$minor</dt>\n",
       "\t\t<dd>'1.3'</dd>\n",
       "\t<dt>$year</dt>\n",
       "\t\t<dd>'2015'</dd>\n",
       "\t<dt>$month</dt>\n",
       "\t\t<dd>'03'</dd>\n",
       "\t<dt>$day</dt>\n",
       "\t\t<dd>'09'</dd>\n",
       "\t<dt>$svn rev</dt>\n",
       "\t\t<dd>'67962'</dd>\n",
       "\t<dt>$language</dt>\n",
       "\t\t<dd>'R'</dd>\n",
       "\t<dt>$version.string</dt>\n",
       "\t\t<dd>'R version 3.1.3 (2015-03-09)'</dd>\n",
       "\t<dt>$nickname</dt>\n",
       "\t\t<dd>'Smooth Sidewalk'</dd>\n",
       "</dl>\n"
      ],
      "text/latex": [
       "\\begin{description}\n",
       "\\item[\\$platform] 'x86_64-unknown-linux-gnu'\n",
       "\\item[\\$arch] 'x86_64'\n",
       "\\item[\\$os] 'linux-gnu'\n",
       "\\item[\\$system] 'x86_64, linux-gnu'\n",
       "\\item[\\$status] ''\n",
       "\\item[\\$major] '3'\n",
       "\\item[\\$minor] '1.3'\n",
       "\\item[\\$year] '2015'\n",
       "\\item[\\$month] '03'\n",
       "\\item[\\$day] '09'\n",
       "\\item[\\$svn rev] '67962'\n",
       "\\item[\\$language] 'R'\n",
       "\\item[\\$version.string] 'R version 3.1.3 (2015-03-09)'\n",
       "\\item[\\$nickname] 'Smooth Sidewalk'\n",
       "\\end{description}\n"
      ],
      "text/markdown": [
       "$platform\n",
       ":   'x86_64-unknown-linux-gnu'\n",
       "$arch\n",
       ":   'x86_64'\n",
       "$os\n",
       ":   'linux-gnu'\n",
       "$system\n",
       ":   'x86_64, linux-gnu'\n",
       "$status\n",
       ":   ''\n",
       "$major\n",
       ":   '3'\n",
       "$minor\n",
       ":   '1.3'\n",
       "$year\n",
       ":   '2015'\n",
       "$month\n",
       ":   '03'\n",
       "$day\n",
       ":   '09'\n",
       "$svn rev\n",
       ":   '67962'\n",
       "$language\n",
       ":   'R'\n",
       "$version.string\n",
       ":   'R version 3.1.3 (2015-03-09)'\n",
       "$nickname\n",
       ":   'Smooth Sidewalk'\n",
       "\n",
       "\n"
      ],
      "text/plain": [
       "$platform\n",
       "[1] \"x86_64-unknown-linux-gnu\"\n",
       "\n",
       "$arch\n",
       "[1] \"x86_64\"\n",
       "\n",
       "$os\n",
       "[1] \"linux-gnu\"\n",
       "\n",
       "$system\n",
       "[1] \"x86_64, linux-gnu\"\n",
       "\n",
       "$status\n",
       "[1] \"\"\n",
       "\n",
       "$major\n",
       "[1] \"3\"\n",
       "\n",
       "$minor\n",
       "[1] \"1.3\"\n",
       "\n",
       "$year\n",
       "[1] \"2015\"\n",
       "\n",
       "$month\n",
       "[1] \"03\"\n",
       "\n",
       "$day\n",
       "[1] \"09\"\n",
       "\n",
       "$`svn rev`\n",
       "[1] \"67962\"\n",
       "\n",
       "$language\n",
       "[1] \"R\"\n",
       "\n",
       "$version.string\n",
       "[1] \"R version 3.1.3 (2015-03-09)\"\n",
       "\n",
       "$nickname\n",
       "[1] \"Smooth Sidewalk\"\n"
      ]
     },
     "execution_count": 4,
     "metadata": {},
     "output_type": "execute_result"
    }
   ],
   "source": [
    "R.Version()\n"
   ]
  },
  {
   "cell_type": "code",
   "execution_count": 9,
   "metadata": {
    "collapsed": false
   },
   "outputs": [
    {
     "ename": "ERROR",
     "evalue": "Error in eval(expr, envir, enclos): object 'localH2O' not found\n",
     "output_type": "error",
     "traceback": [
      "Error in eval(expr, envir, enclos): object 'localH2O' not found\n"
     ]
    }
   ],
   "source": [
    "class(localH2O)"
   ]
  },
  {
   "cell_type": "code",
   "execution_count": 5,
   "metadata": {
    "collapsed": false
   },
   "outputs": [
    {
     "name": "stdout",
     "output_type": "stream",
     "text": [
      "[1] \"A shutdown has been triggered. \"\n"
     ]
    },
    {
     "name": "stderr",
     "output_type": "stream",
     "text": [
      "Removing package from ‘/opt/R-3.1.3/library’\n",
      "(as ‘lib’ is unspecified)\n",
      "Updating HTML index of packages in '.Library'\n",
      "Making 'packages.html' ... done\n"
     ]
    }
   ],
   "source": [
    "if (\"package:h2o\" %in% search()) { detach(\"package:h2o\", unload=TRUE) }\n",
    "if (\"h2o\" %in% rownames(installed.packages())) { remove.packages(\"h2o\") }"
   ]
  },
  {
   "cell_type": "code",
   "execution_count": 6,
   "metadata": {
    "collapsed": true
   },
   "outputs": [],
   "source": [
    "# Next, we download packages that H2O depends on.\n",
    "if (! (\"methods\" %in% rownames(installed.packages()))) { install.packages(\"methods\") }\n",
    "if (! (\"statmod\" %in% rownames(installed.packages()))) { install.packages(\"statmod\") }\n",
    "if (! (\"stats\" %in% rownames(installed.packages()))) { install.packages(\"stats\") }\n",
    "if (! (\"graphics\" %in% rownames(installed.packages()))) { install.packages(\"graphics\") }\n",
    "if (! (\"RCurl\" %in% rownames(installed.packages()))) { install.packages(\"RCurl\") }\n",
    "if (! (\"jsonlite\" %in% rownames(installed.packages()))) { install.packages(\"jsonlite\") }\n",
    "if (! (\"tools\" %in% rownames(installed.packages()))) { install.packages(\"tools\") }\n",
    "if (! (\"utils\" %in% rownames(installed.packages()))) { install.packages(\"utils\") }"
   ]
  },
  {
   "cell_type": "code",
   "execution_count": 7,
   "metadata": {
    "collapsed": false
   },
   "outputs": [
    {
     "name": "stdout",
     "output_type": "stream",
     "text": [
      "\n",
      "The downloaded source packages are in\n",
      "\t‘/tmp/RtmpK3P39s/downloaded_packages’\n"
     ]
    },
    {
     "name": "stderr",
     "output_type": "stream",
     "text": [
      "Updating HTML index of packages in '.Library'\n",
      "Making 'packages.html' ... done\n",
      "\n",
      "----------------------------------------------------------------------\n",
      "\n",
      "Your next step is to start H2O and get a connection object (named\n",
      "'localH2O', for example):\n",
      "    > localH2O = h2o.init()\n",
      "\n",
      "For H2O package documentation, ask for help:\n",
      "    > ??h2o\n",
      "\n",
      "After starting H2O, you can use the Web UI at http://localhost:54321\n",
      "For more information visit http://docs.h2o.ai\n",
      "\n",
      "----------------------------------------------------------------------\n",
      "\n"
     ]
    }
   ],
   "source": [
    "# Now we download, install and initialize the H2O package for R.\n",
    "install.packages(\"h2o\", type=\"source\", repos=(c(\"http://h2o-release.s3.amazonaws.com/h2o/rel-slater/5/R\")))\n",
    "library(h2o)"
   ]
  },
  {
   "cell_type": "code",
   "execution_count": 8,
   "metadata": {
    "collapsed": false
   },
   "outputs": [
    {
     "name": "stdout",
     "output_type": "stream",
     "text": [
      "Successfully connected to http://localhost:54321/ \n",
      "\n",
      "R is connected to the H2O cluster: \n",
      "    H2O cluster uptime:         9 minutes 29 seconds \n",
      "    H2O cluster version:        3.2.0.5 \n",
      "    H2O cluster name:           H2O_1120 \n",
      "    H2O cluster total nodes:    1 \n",
      "    H2O cluster total memory:   0.90 GB \n",
      "    H2O cluster total cores:    4 \n",
      "    H2O cluster allowed cores:  4 \n",
      "    H2O cluster healthy:        TRUE \n",
      "\n"
     ]
    }
   ],
   "source": [
    "library(h2o)\n",
    "localH2O = h2o.init(ip = \"localhost\", port = 54321, startH2O = FALSE)"
   ]
  },
  {
   "cell_type": "code",
   "execution_count": 9,
   "metadata": {
    "collapsed": false
   },
   "outputs": [
    {
     "data": {
      "text/html": [
       "'H2OConnection'"
      ],
      "text/latex": [
       "'H2OConnection'"
      ],
      "text/markdown": [
       "'H2OConnection'"
      ],
      "text/plain": [
       "[1] \"H2OConnection\"\n",
       "attr(,\"package\")\n",
       "[1] \"h2o\""
      ]
     },
     "execution_count": 9,
     "metadata": {},
     "output_type": "execute_result"
    }
   ],
   "source": [
    "class(localH2O)"
   ]
  },
  {
   "cell_type": "code",
   "execution_count": 18,
   "metadata": {
    "collapsed": false
   },
   "outputs": [
    {
     "name": "stdout",
     "output_type": "stream",
     "text": [
      "\n",
      "H2O is not running yet, starting it now...\n",
      "\n",
      "Note:  In case of errors look at the following log files:\n",
      "    /tmp/RtmpAmQbfc/h2o_root_started_from_r.out\n",
      "    /tmp/RtmpAmQbfc/h2o_root_started_from_r.err\n",
      "\n",
      "\n",
      "..Successfully connected to http://localhost:54321/ \n",
      "\n",
      "R is connected to the H2O cluster: \n",
      "    H2O cluster uptime:         1 seconds 875 milliseconds \n",
      "    H2O cluster version:        3.2.0.5 \n",
      "    H2O cluster name:           H2O_started_from_R_root_ewp288 \n",
      "    H2O cluster total nodes:    1 \n",
      "    H2O cluster total memory:   1.71 GB \n",
      "    H2O cluster total cores:    4 \n",
      "    H2O cluster allowed cores:  2 \n",
      "    H2O cluster healthy:        TRUE \n",
      "\n",
      "Note:  As started, H2O is limited to the CRAN default of 2 CPUs.\n",
      "       Shut down and restart H2O as shown below to use all your CPUs.\n",
      "           > h2o.shutdown(localH2O)\n",
      "           > localH2O = h2o.init(nthreads = -1)\n",
      "\n"
     ]
    }
   ],
   "source": [
    "library(h2o)\n",
    "localH2O = h2o.init(ip = \"localhost\", port = 54321, startH2O = TRUE)"
   ]
  },
  {
   "cell_type": "code",
   "execution_count": 19,
   "metadata": {
    "collapsed": false
   },
   "outputs": [
    {
     "name": "stdout",
     "output_type": "stream",
     "text": [
      "Version: 3.2.0.5 \n",
      "Cloud name: H2O_started_from_R_root_ewp288 \n",
      "Cloud size: 1 \n",
      "Cloud is locked\n",
      "\n"
     ]
    },
    {
     "data": {
      "text/html": [
       "<table>\n",
       "<thead><tr><th></th><th scope=col>h2o</th><th scope=col>healthy</th><th scope=col>last_ping</th><th scope=col>num_cpus</th><th scope=col>sys_load</th><th scope=col>mem_value_size</th><th scope=col>total_value_size</th><th scope=col>free_mem</th><th scope=col>tot_mem</th><th scope=col>max_mem</th><th scope=col>free_disk</th><th scope=col>max_disk</th><th scope=col>pid</th><th scope=col>num_keys</th><th scope=col>tcps_active</th><th scope=col>open_fds</th><th scope=col>rpcs_active</th></tr></thead>\n",
       "<tbody>\n",
       "\t<tr><th scope=row>1</th><td>/127.0.0.1:54321</td><td>TRUE</td><td>1.444581e+12</td><td>4</td><td>0.17</td><td>0</td><td>0</td><td>167632896</td><td>225968128</td><td>1834483712</td><td>43987763200</td><td>58665730048</td><td>19889</td><td>0</td><td>0</td><td>61</td><td>0</td></tr>\n",
       "</tbody>\n",
       "</table>\n"
      ],
      "text/latex": [
       "\\begin{tabular}{r|lllllllllllllllll}\n",
       "  & h2o & healthy & last_ping & num_cpus & sys_load & mem_value_size & total_value_size & free_mem & tot_mem & max_mem & free_disk & max_disk & pid & num_keys & tcps_active & open_fds & rpcs_active\\\\\n",
       "\\hline\n",
       "\t1 & /127.0.0.1:54321 & TRUE & 1.444581e+12 & 4 & 0.17 & 0 & 0 & 167632896 & 225968128 & 1834483712 & 43987763200 & 58665730048 & 19889 & 0 & 0 & 61 & 0\\\\\n",
       "\\end{tabular}\n"
      ],
      "text/plain": [
       "               h2o healthy    last_ping num_cpus sys_load mem_value_size\n",
       "1 /127.0.0.1:54321    TRUE 1.444581e+12        4     0.17              0\n",
       "  total_value_size  free_mem   tot_mem    max_mem   free_disk    max_disk   pid\n",
       "1                0 167632896 225968128 1834483712 43987763200 58665730048 19889\n",
       "  num_keys tcps_active open_fds rpcs_active\n",
       "1        0           0       61           0"
      ]
     },
     "execution_count": 19,
     "metadata": {},
     "output_type": "execute_result"
    }
   ],
   "source": [
    "h2o.clusterStatus(localH2O)"
   ]
  },
  {
   "cell_type": "code",
   "execution_count": 22,
   "metadata": {
    "collapsed": false
   },
   "outputs": [
    {
     "ename": "ERROR",
     "evalue": "Error in h2o.shutdown(localH2O, prompt = FALSE): There is no H2O instance running at http://localhost:54321/\n",
     "output_type": "error",
     "traceback": [
      "Error in h2o.shutdown(localH2O, prompt = FALSE): There is no H2O instance running at http://localhost:54321/\n"
     ]
    }
   ],
   "source": [
    "h2o.shutdown(localH2O , prompt = FALSE)"
   ]
  },
  {
   "cell_type": "code",
   "execution_count": 17,
   "metadata": {
    "collapsed": true
   },
   "outputs": [],
   "source": [
    "system(\"whoami > whoami.txt\")"
   ]
  },
  {
   "cell_type": "code",
   "execution_count": 10,
   "metadata": {
    "collapsed": false
   },
   "outputs": [
    {
     "data": {
      "text/html": [
       "TRUE"
      ],
      "text/latex": [
       "TRUE"
      ],
      "text/markdown": [
       "TRUE"
      ],
      "text/plain": [
       "[1] TRUE"
      ]
     },
     "execution_count": 10,
     "metadata": {},
     "output_type": "execute_result"
    }
   ],
   "source": [
    "T\n"
   ]
  },
  {
   "cell_type": "code",
   "execution_count": null,
   "metadata": {
    "collapsed": true
   },
   "outputs": [],
   "source": []
  }
 ],
 "metadata": {
  "kernelspec": {
   "display_name": "R",
   "language": "R",
   "name": "ir"
  },
  "language_info": {
   "codemirror_mode": "r",
   "file_extension": ".r",
   "mimetype": "text/x-r-source",
   "name": "R",
   "pygments_lexer": "r",
   "version": "3.1.3"
  }
 },
 "nbformat": 4,
 "nbformat_minor": 0
}
